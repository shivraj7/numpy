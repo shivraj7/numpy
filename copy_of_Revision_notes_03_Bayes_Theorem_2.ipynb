{
  "nbformat": 4,
  "nbformat_minor": 0,
  "metadata": {
    "colab": {
      "provenance": [],
      "authorship_tag": "ABX9TyMwDxUGBuJlbQ+JPNo5LXHu",
      "include_colab_link": true
    },
    "kernelspec": {
      "name": "python3",
      "display_name": "Python 3"
    },
    "language_info": {
      "name": "python"
    }
  },
  "cells": [
    {
      "cell_type": "markdown",
      "metadata": {
        "id": "view-in-github",
        "colab_type": "text"
      },
      "source": [
        "<a href=\"https://colab.research.google.com/github/shivraj7/numpy/blob/main/copy_of_Revision_notes_03_Bayes_Theorem_2.ipynb\" target=\"_parent\"><img src=\"https://colab.research.google.com/assets/colab-badge.svg\" alt=\"Open In Colab\"/></a>"
      ]
    },
    {
      "cell_type": "markdown",
      "source": [
        "## **Content**\n",
        "\n",
        "- **Problem Solving**  \n",
        "- **Mini Case Study**"
      ],
      "metadata": {
        "id": "AptfTHtc6fdn"
      }
    },
    {
      "cell_type": "code",
      "source": [],
      "metadata": {
        "id": "4IBF8NFwidkZ"
      },
      "execution_count": null,
      "outputs": []
    }
  ]
}