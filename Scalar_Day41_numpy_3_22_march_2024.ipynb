{
  "nbformat": 4,
  "nbformat_minor": 0,
  "metadata": {
    "colab": {
      "provenance": [],
      "include_colab_link": true
    },
    "kernelspec": {
      "name": "python3",
      "display_name": "Python 3"
    },
    "language_info": {
      "name": "python"
    }
  },
  "cells": [
    {
      "cell_type": "markdown",
      "metadata": {
        "id": "view-in-github",
        "colab_type": "text"
      },
      "source": [
        "<a href=\"https://colab.research.google.com/github/shivraj7/numpy/blob/main/Scalar_Day41_numpy_3_22_march_2024.ipynb\" target=\"_parent\"><img src=\"https://colab.research.google.com/assets/colab-badge.svg\" alt=\"Open In Colab\"/></a>"
      ]
    },
    {
      "cell_type": "markdown",
      "source": [
        "#Fitbit solution"
      ],
      "metadata": {
        "id": "vapoO_CWg4zw"
      }
    },
    {
      "cell_type": "markdown",
      "source": [
        "Columns,feature,attributes all have same meaning.\n",
        "\n",
        "Row,records,observation all have same meaning."
      ],
      "metadata": {
        "id": "F0VgJBrqGwAv"
      }
    },
    {
      "cell_type": "code",
      "source": [
        "import numpy as np"
      ],
      "metadata": {
        "id": "rNBhxeG4lSuF"
      },
      "execution_count": 2,
      "outputs": []
    },
    {
      "cell_type": "markdown",
      "source": [
        "Q. Meaning of ! and gdown\n",
        "\n",
        "A. In the context of Google Colab or Jupyter Notebooks, the exclamation mark `!` at the beginning of a command denotes that the command should be executed in the shell or command-line interface of the underlying operating system.\n",
        "\n",
        "For example, if you write `!ls` in a Colab cell, it will list the contents of the current directory just like the `ls` command does in a Linux or Unix shell.\n",
        "\n",
        "So, when you use `!gdown`, it means you're executing the `gdown` command in the shell, which is a way to download files from Google Drive directly within the Colab environment."
      ],
      "metadata": {
        "id": "TAOQvBwnIBhF"
      }
    },
    {
      "cell_type": "code",
      "execution_count": 1,
      "metadata": {
        "colab": {
          "base_uri": "https://localhost:8080/"
        },
        "id": "jjDt1cjZgwsr",
        "outputId": "bbf99096-b235-4b17-a11c-e36b3eb050b0"
      },
      "outputs": [
        {
          "output_type": "stream",
          "name": "stdout",
          "text": [
            "Downloading...\n",
            "From: https://drive.google.com/uc?id=1vk1Pu0djiYcrdc85yUXZ_Rqq2oZNcohd\n",
            "To: /content/fit.txt\n",
            "\r  0% 0.00/3.43k [00:00<?, ?B/s]\r100% 3.43k/3.43k [00:00<00:00, 13.4MB/s]\n"
          ]
        }
      ],
      "source": [
        "!gdown 1vk1Pu0djiYcrdc85yUXZ_Rqq2oZNcohd"
      ]
    },
    {
      "cell_type": "code",
      "source": [
        "data = np.loadtxt('fit.txt',dtype='str')\n",
        "data"
      ],
      "metadata": {
        "colab": {
          "base_uri": "https://localhost:8080/"
        },
        "id": "uHKsUjmShv1G",
        "outputId": "cdb44de9-e486-46e9-c773-1ed5c739f0cd"
      },
      "execution_count": 4,
      "outputs": [
        {
          "output_type": "execute_result",
          "data": {
            "text/plain": [
              "array([['06-10-2017', '5464', 'Neutral', '181', '5', 'Inactive'],\n",
              "       ['07-10-2017', '6041', 'Sad', '197', '8', 'Inactive'],\n",
              "       ['08-10-2017', '25', 'Sad', '0', '5', 'Inactive'],\n",
              "       ['09-10-2017', '5461', 'Sad', '174', '4', 'Inactive'],\n",
              "       ['10-10-2017', '6915', 'Neutral', '223', '5', 'Active'],\n",
              "       ['11-10-2017', '4545', 'Sad', '149', '6', 'Inactive'],\n",
              "       ['12-10-2017', '4340', 'Sad', '140', '6', 'Inactive'],\n",
              "       ['13-10-2017', '1230', 'Sad', '38', '7', 'Inactive'],\n",
              "       ['14-10-2017', '61', 'Sad', '1', '5', 'Inactive'],\n",
              "       ['15-10-2017', '1258', 'Sad', '40', '6', 'Inactive'],\n",
              "       ['16-10-2017', '3148', 'Sad', '101', '8', 'Inactive'],\n",
              "       ['17-10-2017', '4687', 'Sad', '152', '5', 'Inactive'],\n",
              "       ['18-10-2017', '4732', 'Happy', '150', '6', 'Active'],\n",
              "       ['19-10-2017', '3519', 'Sad', '113', '7', 'Inactive'],\n",
              "       ['20-10-2017', '1580', 'Sad', '49', '5', 'Inactive'],\n",
              "       ['21-10-2017', '2822', 'Sad', '86', '6', 'Inactive'],\n",
              "       ['22-10-2017', '181', 'Sad', '6', '8', 'Inactive'],\n",
              "       ['23-10-2017', '3158', 'Neutral', '99', '5', 'Inactive'],\n",
              "       ['24-10-2017', '4383', 'Neutral', '143', '4', 'Inactive'],\n",
              "       ['25-10-2017', '3881', 'Neutral', '125', '5', 'Inactive'],\n",
              "       ['26-10-2017', '4037', 'Neutral', '129', '6', 'Inactive'],\n",
              "       ['27-10-2017', '202', 'Neutral', '6', '8', 'Inactive'],\n",
              "       ['28-10-2017', '292', 'Neutral', '9', '5', 'Inactive'],\n",
              "       ['29-10-2017', '330', 'Happy', '10', '6', 'Inactive'],\n",
              "       ['30-10-2017', '2209', 'Neutral', '72', '5', 'Inactive'],\n",
              "       ['31-10-2017', '4550', 'Happy', '150', '8', 'Active'],\n",
              "       ['01-11-2017', '4435', 'Happy', '141', '5', 'Inactive'],\n",
              "       ['02-11-2017', '4779', 'Happy', '156', '4', 'Inactive'],\n",
              "       ['03-11-2017', '1831', 'Happy', '57', '5', 'Inactive'],\n",
              "       ['04-11-2017', '2255', 'Happy', '72', '4', 'Inactive'],\n",
              "       ['05-11-2017', '539', 'Happy', '17', '5', 'Active'],\n",
              "       ['06-11-2017', '5464', 'Happy', '181', '4', 'Inactive'],\n",
              "       ['07-11-2017', '6041', 'Neutral', '197', '3', 'Inactive'],\n",
              "       ['08-11-2017', '4068', 'Happy', '131', '2', 'Inactive'],\n",
              "       ['09-11-2017', '4683', 'Happy', '154', '9', 'Inactive'],\n",
              "       ['10-11-2017', '4033', 'Happy', '137', '5', 'Inactive'],\n",
              "       ['11-11-2017', '6314', 'Happy', '193', '6', 'Active'],\n",
              "       ['12-11-2017', '614', 'Happy', '19', '4', 'Active'],\n",
              "       ['13-11-2017', '3149', 'Happy', '101', '5', 'Active'],\n",
              "       ['14-11-2017', '4005', 'Happy', '139', '8', 'Active'],\n",
              "       ['15-11-2017', '4880', 'Happy', '164', '4', 'Active'],\n",
              "       ['16-11-2017', '4136', 'Happy', '137', '5', 'Active'],\n",
              "       ['17-11-2017', '705', 'Happy', '22', '6', 'Active'],\n",
              "       ['18-11-2017', '570', 'Neutral', '17', '5', 'Active'],\n",
              "       ['19-11-2017', '269', 'Happy', '9', '6', 'Active'],\n",
              "       ['20-11-2017', '4275', 'Happy', '145', '5', 'Inactive'],\n",
              "       ['21-11-2017', '5999', 'Happy', '192', '6', 'Inactive'],\n",
              "       ['22-11-2017', '4421', 'Happy', '146', '5', 'Inactive'],\n",
              "       ['23-11-2017', '6930', 'Happy', '234', '6', 'Inactive'],\n",
              "       ['24-11-2017', '5195', 'Happy', '167', '5', 'Inactive'],\n",
              "       ['25-11-2017', '546', 'Happy', '16', '6', 'Inactive'],\n",
              "       ['26-11-2017', '493', 'Happy', '17', '7', 'Active'],\n",
              "       ['27-11-2017', '995', 'Happy', '32', '6', 'Active'],\n",
              "       ['28-11-2017', '1163', 'Neutral', '35', '7', 'Active'],\n",
              "       ['29-11-2017', '6676', 'Sad', '220', '6', 'Active'],\n",
              "       ['30-11-2017', '3608', 'Happy', '116', '5', 'Active'],\n",
              "       ['01-12-2017', '774', 'Happy', '23', '6', 'Active'],\n",
              "       ['02-12-2017', '1421', 'Happy', '44', '7', 'Active'],\n",
              "       ['03-12-2017', '4064', 'Happy', '131', '8', 'Active'],\n",
              "       ['04-12-2017', '2725', 'Happy', '86', '8', 'Active'],\n",
              "       ['05-12-2017', '5934', 'Happy', '194', '7', 'Active'],\n",
              "       ['06-12-2017', '1867', 'Happy', '60', '8', 'Active'],\n",
              "       ['07-12-2017', '3721', 'Sad', '121', '5', 'Active'],\n",
              "       ['08-12-2017', '2374', 'Neutral', '76', '4', 'Inactive'],\n",
              "       ['09-12-2017', '2909', 'Neutral', '93', '3', 'Active'],\n",
              "       ['10-12-2017', '1648', 'Sad', '53', '3', 'Active'],\n",
              "       ['11-12-2017', '799', 'Sad', '25', '4', 'Inactive'],\n",
              "       ['12-12-2017', '7102', 'Neutral', '227', '5', 'Active'],\n",
              "       ['13-12-2017', '3941', 'Neutral', '125', '5', 'Active'],\n",
              "       ['14-12-2017', '7422', 'Happy', '243', '5', 'Active'],\n",
              "       ['15-12-2017', '437', 'Neutral', '14', '3', 'Active'],\n",
              "       ['16-12-2017', '1231', 'Neutral', '39', '4', 'Active'],\n",
              "       ['17-12-2017', '1696', 'Sad', '55', '4', 'Inactive'],\n",
              "       ['18-12-2017', '4921', 'Neutral', '158', '5', 'Active'],\n",
              "       ['19-12-2017', '221', 'Sad', '7', '5', 'Active'],\n",
              "       ['20-12-2017', '6500', 'Neutral', '213', '5', 'Active'],\n",
              "       ['21-12-2017', '3575', 'Neutral', '116', '5', 'Active'],\n",
              "       ['22-12-2017', '4061', 'Sad', '129', '5', 'Inactive'],\n",
              "       ['23-12-2017', '651', 'Sad', '21', '5', 'Inactive'],\n",
              "       ['24-12-2017', '753', 'Sad', '28', '4', 'Inactive'],\n",
              "       ['25-12-2017', '518', 'Sad', '16', '3', 'Inactive'],\n",
              "       ['26-12-2017', '5537', 'Happy', '180', '4', 'Active'],\n",
              "       ['27-12-2017', '4108', 'Neutral', '138', '5', 'Active'],\n",
              "       ['28-12-2017', '5376', 'Happy', '176', '5', 'Active'],\n",
              "       ['29-12-2017', '3066', 'Neutral', '99', '4', 'Active'],\n",
              "       ['30-12-2017', '177', 'Sad', '5', '5', 'Inactive'],\n",
              "       ['31-12-2017', '36', 'Sad', '1', '3', 'Inactive'],\n",
              "       ['01-01-2018', '299', 'Sad', '10', '3', 'Inactive'],\n",
              "       ['02-01-2018', '1447', 'Neutral', '47', '3', 'Inactive'],\n",
              "       ['03-01-2018', '2599', 'Neutral', '84', '2', 'Inactive'],\n",
              "       ['04-01-2018', '702', 'Sad', '23', '3', 'Inactive'],\n",
              "       ['05-01-2018', '133', 'Sad', '4', '2', 'Inactive'],\n",
              "       ['06-01-2018', '153', 'Happy', '0', '8', 'Inactive'],\n",
              "       ['07-01-2018', '500', 'Neutral', '0', '5', 'Active'],\n",
              "       ['08-01-2018', '2127', 'Neutral', '0', '5', 'Inactive'],\n",
              "       ['09-01-2018', '2203', 'Happy', '0', '5', 'Active']], dtype='<U10')"
            ]
          },
          "metadata": {},
          "execution_count": 4
        }
      ]
    },
    {
      "cell_type": "markdown",
      "source": [
        "Q. what does shape retruns\n",
        "\n",
        "A. It returns a tuple. In Python, a tuple is an immutable collection of ordered elements, similar to a list. However, unlike lists, tuples cannot be modified once they are created. Tuples are defined by enclosing the elements in parentheses (), with elements separated by commas.\n",
        "\n",
        "Example\n",
        "mixed_tuple = (1, 'apple', [5, 6, 7], ('x', 'y', 'z'))\n",
        "\n",
        "Tuples are immutable, meaning once created, you cannot modify their elements or their size:\n",
        "\n",
        "my_tuple[0] = 100  # This will raise a TypeError\n",
        "\n",
        "Because of their immutability, tuples offer performance benefits over lists in certain situations and provide a level of safety when working with data that should not be changed accidentally.\n"
      ],
      "metadata": {
        "id": "K1BTdrVxKir8"
      }
    },
    {
      "cell_type": "code",
      "source": [
        "data.shape"
      ],
      "metadata": {
        "colab": {
          "base_uri": "https://localhost:8080/"
        },
        "id": "QaYTXN7jlg1G",
        "outputId": "7605a450-cc1d-4c99-afcf-ff961d2dfc3f"
      },
      "execution_count": 5,
      "outputs": [
        {
          "output_type": "execute_result",
          "data": {
            "text/plain": [
              "(96, 6)"
            ]
          },
          "metadata": {},
          "execution_count": 5
        }
      ]
    },
    {
      "cell_type": "code",
      "source": [
        "data.ndim"
      ],
      "metadata": {
        "colab": {
          "base_uri": "https://localhost:8080/"
        },
        "id": "JQE-6lIolm0J",
        "outputId": "c00e13a4-88a1-40aa-b679-bfe8a1ed47be"
      },
      "execution_count": 6,
      "outputs": [
        {
          "output_type": "execute_result",
          "data": {
            "text/plain": [
              "2"
            ]
          },
          "metadata": {},
          "execution_count": 6
        }
      ]
    },
    {
      "cell_type": "code",
      "source": [
        "data[0]"
      ],
      "metadata": {
        "colab": {
          "base_uri": "https://localhost:8080/"
        },
        "id": "l_lILJAUlue7",
        "outputId": "2cb780ca-10c3-4837-f7bb-445453781e5f"
      },
      "execution_count": 7,
      "outputs": [
        {
          "output_type": "execute_result",
          "data": {
            "text/plain": [
              "array(['06-10-2017', '5464', 'Neutral', '181', '5', 'Inactive'],\n",
              "      dtype='<U10')"
            ]
          },
          "metadata": {},
          "execution_count": 7
        }
      ]
    },
    {
      "cell_type": "code",
      "source": [
        "#transpose of data\n",
        "data.T.shape"
      ],
      "metadata": {
        "colab": {
          "base_uri": "https://localhost:8080/"
        },
        "id": "p_fGmoYKmOq_",
        "outputId": "8101fd38-f940-4fae-ae1e-e65ecfcf5b79"
      },
      "execution_count": 8,
      "outputs": [
        {
          "output_type": "execute_result",
          "data": {
            "text/plain": [
              "(6, 96)"
            ]
          },
          "metadata": {},
          "execution_count": 8
        }
      ]
    },
    {
      "cell_type": "code",
      "source": [
        "data.T"
      ],
      "metadata": {
        "colab": {
          "base_uri": "https://localhost:8080/"
        },
        "id": "6jmTxRwwme7m",
        "outputId": "28f3c1e0-0fd2-48c1-8161-b5271b995e00"
      },
      "execution_count": 10,
      "outputs": [
        {
          "output_type": "execute_result",
          "data": {
            "text/plain": [
              "array([['06-10-2017', '07-10-2017', '08-10-2017', '09-10-2017',\n",
              "        '10-10-2017', '11-10-2017', '12-10-2017', '13-10-2017',\n",
              "        '14-10-2017', '15-10-2017', '16-10-2017', '17-10-2017',\n",
              "        '18-10-2017', '19-10-2017', '20-10-2017', '21-10-2017',\n",
              "        '22-10-2017', '23-10-2017', '24-10-2017', '25-10-2017',\n",
              "        '26-10-2017', '27-10-2017', '28-10-2017', '29-10-2017',\n",
              "        '30-10-2017', '31-10-2017', '01-11-2017', '02-11-2017',\n",
              "        '03-11-2017', '04-11-2017', '05-11-2017', '06-11-2017',\n",
              "        '07-11-2017', '08-11-2017', '09-11-2017', '10-11-2017',\n",
              "        '11-11-2017', '12-11-2017', '13-11-2017', '14-11-2017',\n",
              "        '15-11-2017', '16-11-2017', '17-11-2017', '18-11-2017',\n",
              "        '19-11-2017', '20-11-2017', '21-11-2017', '22-11-2017',\n",
              "        '23-11-2017', '24-11-2017', '25-11-2017', '26-11-2017',\n",
              "        '27-11-2017', '28-11-2017', '29-11-2017', '30-11-2017',\n",
              "        '01-12-2017', '02-12-2017', '03-12-2017', '04-12-2017',\n",
              "        '05-12-2017', '06-12-2017', '07-12-2017', '08-12-2017',\n",
              "        '09-12-2017', '10-12-2017', '11-12-2017', '12-12-2017',\n",
              "        '13-12-2017', '14-12-2017', '15-12-2017', '16-12-2017',\n",
              "        '17-12-2017', '18-12-2017', '19-12-2017', '20-12-2017',\n",
              "        '21-12-2017', '22-12-2017', '23-12-2017', '24-12-2017',\n",
              "        '25-12-2017', '26-12-2017', '27-12-2017', '28-12-2017',\n",
              "        '29-12-2017', '30-12-2017', '31-12-2017', '01-01-2018',\n",
              "        '02-01-2018', '03-01-2018', '04-01-2018', '05-01-2018',\n",
              "        '06-01-2018', '07-01-2018', '08-01-2018', '09-01-2018'],\n",
              "       ['5464', '6041', '25', '5461', '6915', '4545', '4340', '1230',\n",
              "        '61', '1258', '3148', '4687', '4732', '3519', '1580', '2822',\n",
              "        '181', '3158', '4383', '3881', '4037', '202', '292', '330',\n",
              "        '2209', '4550', '4435', '4779', '1831', '2255', '539', '5464',\n",
              "        '6041', '4068', '4683', '4033', '6314', '614', '3149', '4005',\n",
              "        '4880', '4136', '705', '570', '269', '4275', '5999', '4421',\n",
              "        '6930', '5195', '546', '493', '995', '1163', '6676', '3608',\n",
              "        '774', '1421', '4064', '2725', '5934', '1867', '3721', '2374',\n",
              "        '2909', '1648', '799', '7102', '3941', '7422', '437', '1231',\n",
              "        '1696', '4921', '221', '6500', '3575', '4061', '651', '753',\n",
              "        '518', '5537', '4108', '5376', '3066', '177', '36', '299',\n",
              "        '1447', '2599', '702', '133', '153', '500', '2127', '2203'],\n",
              "       ['Neutral', 'Sad', 'Sad', 'Sad', 'Neutral', 'Sad', 'Sad', 'Sad',\n",
              "        'Sad', 'Sad', 'Sad', 'Sad', 'Happy', 'Sad', 'Sad', 'Sad', 'Sad',\n",
              "        'Neutral', 'Neutral', 'Neutral', 'Neutral', 'Neutral', 'Neutral',\n",
              "        'Happy', 'Neutral', 'Happy', 'Happy', 'Happy', 'Happy', 'Happy',\n",
              "        'Happy', 'Happy', 'Neutral', 'Happy', 'Happy', 'Happy', 'Happy',\n",
              "        'Happy', 'Happy', 'Happy', 'Happy', 'Happy', 'Happy', 'Neutral',\n",
              "        'Happy', 'Happy', 'Happy', 'Happy', 'Happy', 'Happy', 'Happy',\n",
              "        'Happy', 'Happy', 'Neutral', 'Sad', 'Happy', 'Happy', 'Happy',\n",
              "        'Happy', 'Happy', 'Happy', 'Happy', 'Sad', 'Neutral', 'Neutral',\n",
              "        'Sad', 'Sad', 'Neutral', 'Neutral', 'Happy', 'Neutral',\n",
              "        'Neutral', 'Sad', 'Neutral', 'Sad', 'Neutral', 'Neutral', 'Sad',\n",
              "        'Sad', 'Sad', 'Sad', 'Happy', 'Neutral', 'Happy', 'Neutral',\n",
              "        'Sad', 'Sad', 'Sad', 'Neutral', 'Neutral', 'Sad', 'Sad', 'Happy',\n",
              "        'Neutral', 'Neutral', 'Happy'],\n",
              "       ['181', '197', '0', '174', '223', '149', '140', '38', '1', '40',\n",
              "        '101', '152', '150', '113', '49', '86', '6', '99', '143', '125',\n",
              "        '129', '6', '9', '10', '72', '150', '141', '156', '57', '72',\n",
              "        '17', '181', '197', '131', '154', '137', '193', '19', '101',\n",
              "        '139', '164', '137', '22', '17', '9', '145', '192', '146', '234',\n",
              "        '167', '16', '17', '32', '35', '220', '116', '23', '44', '131',\n",
              "        '86', '194', '60', '121', '76', '93', '53', '25', '227', '125',\n",
              "        '243', '14', '39', '55', '158', '7', '213', '116', '129', '21',\n",
              "        '28', '16', '180', '138', '176', '99', '5', '1', '10', '47',\n",
              "        '84', '23', '4', '0', '0', '0', '0'],\n",
              "       ['5', '8', '5', '4', '5', '6', '6', '7', '5', '6', '8', '5', '6',\n",
              "        '7', '5', '6', '8', '5', '4', '5', '6', '8', '5', '6', '5', '8',\n",
              "        '5', '4', '5', '4', '5', '4', '3', '2', '9', '5', '6', '4', '5',\n",
              "        '8', '4', '5', '6', '5', '6', '5', '6', '5', '6', '5', '6', '7',\n",
              "        '6', '7', '6', '5', '6', '7', '8', '8', '7', '8', '5', '4', '3',\n",
              "        '3', '4', '5', '5', '5', '3', '4', '4', '5', '5', '5', '5', '5',\n",
              "        '5', '4', '3', '4', '5', '5', '4', '5', '3', '3', '3', '2', '3',\n",
              "        '2', '8', '5', '5', '5'],\n",
              "       ['Inactive', 'Inactive', 'Inactive', 'Inactive', 'Active',\n",
              "        'Inactive', 'Inactive', 'Inactive', 'Inactive', 'Inactive',\n",
              "        'Inactive', 'Inactive', 'Active', 'Inactive', 'Inactive',\n",
              "        'Inactive', 'Inactive', 'Inactive', 'Inactive', 'Inactive',\n",
              "        'Inactive', 'Inactive', 'Inactive', 'Inactive', 'Inactive',\n",
              "        'Active', 'Inactive', 'Inactive', 'Inactive', 'Inactive',\n",
              "        'Active', 'Inactive', 'Inactive', 'Inactive', 'Inactive',\n",
              "        'Inactive', 'Active', 'Active', 'Active', 'Active', 'Active',\n",
              "        'Active', 'Active', 'Active', 'Active', 'Inactive', 'Inactive',\n",
              "        'Inactive', 'Inactive', 'Inactive', 'Inactive', 'Active',\n",
              "        'Active', 'Active', 'Active', 'Active', 'Active', 'Active',\n",
              "        'Active', 'Active', 'Active', 'Active', 'Active', 'Inactive',\n",
              "        'Active', 'Active', 'Inactive', 'Active', 'Active', 'Active',\n",
              "        'Active', 'Active', 'Inactive', 'Active', 'Active', 'Active',\n",
              "        'Active', 'Inactive', 'Inactive', 'Inactive', 'Inactive',\n",
              "        'Active', 'Active', 'Active', 'Active', 'Inactive', 'Inactive',\n",
              "        'Inactive', 'Inactive', 'Inactive', 'Inactive', 'Inactive',\n",
              "        'Inactive', 'Active', 'Inactive', 'Active']], dtype='<U10')"
            ]
          },
          "metadata": {},
          "execution_count": 10
        }
      ]
    },
    {
      "cell_type": "markdown",
      "source": [
        "Unpacking/multi assignment"
      ],
      "metadata": {
        "id": "D2U3iSwMNmgT"
      }
    },
    {
      "cell_type": "code",
      "source": [
        "a,b = (2,3)\n",
        "print(a,b)"
      ],
      "metadata": {
        "id": "xWySELBXm-Ns",
        "outputId": "157c85ba-817f-4162-919a-f9f228f9dff1",
        "colab": {
          "base_uri": "https://localhost:8080/"
        }
      },
      "execution_count": 9,
      "outputs": [
        {
          "output_type": "stream",
          "name": "stdout",
          "text": [
            "2 3\n"
          ]
        }
      ]
    },
    {
      "cell_type": "code",
      "source": [
        "date,step_count,mood,calories_burned,hours_of_sleep,activity = data.T"
      ],
      "metadata": {
        "id": "rKNWHt6xnXGt"
      },
      "execution_count": 11,
      "outputs": []
    },
    {
      "cell_type": "code",
      "source": [
        "len(date)"
      ],
      "metadata": {
        "colab": {
          "base_uri": "https://localhost:8080/"
        },
        "id": "hSdkFG-Bnth1",
        "outputId": "eef7cf4a-dd49-49dc-d3e1-818488f3ff71"
      },
      "execution_count": 12,
      "outputs": [
        {
          "output_type": "execute_result",
          "data": {
            "text/plain": [
              "96"
            ]
          },
          "metadata": {},
          "execution_count": 12
        }
      ]
    },
    {
      "cell_type": "code",
      "source": [
        "mood\n"
      ],
      "metadata": {
        "colab": {
          "base_uri": "https://localhost:8080/"
        },
        "id": "QX6NysJJn6zL",
        "outputId": "db1c736d-671c-4aa4-c581-ef1f64b001df"
      },
      "execution_count": 30,
      "outputs": [
        {
          "output_type": "execute_result",
          "data": {
            "text/plain": [
              "array(['Neutral', 'Sad', 'Sad', 'Sad', 'Neutral', 'Sad', 'Sad', 'Sad',\n",
              "       'Sad', 'Sad', 'Sad', 'Sad', 'Happy', 'Sad', 'Sad', 'Sad', 'Sad',\n",
              "       'Neutral', 'Neutral', 'Neutral', 'Neutral', 'Neutral', 'Neutral',\n",
              "       'Happy', 'Neutral', 'Happy', 'Happy', 'Happy', 'Happy', 'Happy',\n",
              "       'Happy', 'Happy', 'Neutral', 'Happy', 'Happy', 'Happy', 'Happy',\n",
              "       'Happy', 'Happy', 'Happy', 'Happy', 'Happy', 'Happy', 'Neutral',\n",
              "       'Happy', 'Happy', 'Happy', 'Happy', 'Happy', 'Happy', 'Happy',\n",
              "       'Happy', 'Happy', 'Neutral', 'Sad', 'Happy', 'Happy', 'Happy',\n",
              "       'Happy', 'Happy', 'Happy', 'Happy', 'Sad', 'Neutral', 'Neutral',\n",
              "       'Sad', 'Sad', 'Neutral', 'Neutral', 'Happy', 'Neutral', 'Neutral',\n",
              "       'Sad', 'Neutral', 'Sad', 'Neutral', 'Neutral', 'Sad', 'Sad', 'Sad',\n",
              "       'Sad', 'Happy', 'Neutral', 'Happy', 'Neutral', 'Sad', 'Sad', 'Sad',\n",
              "       'Neutral', 'Neutral', 'Sad', 'Sad', 'Happy', 'Neutral', 'Neutral',\n",
              "       'Happy'], dtype='<U10')"
            ]
          },
          "metadata": {},
          "execution_count": 30
        }
      ]
    },
    {
      "cell_type": "code",
      "source": [
        "step_count"
      ],
      "metadata": {
        "colab": {
          "base_uri": "https://localhost:8080/"
        },
        "id": "O-d0VUpzn3h2",
        "outputId": "4d8fffa1-7376-44be-8b98-4d2c291aed80"
      },
      "execution_count": 14,
      "outputs": [
        {
          "output_type": "execute_result",
          "data": {
            "text/plain": [
              "array(['5464', '6041', '25', '5461', '6915', '4545', '4340', '1230', '61',\n",
              "       '1258', '3148', '4687', '4732', '3519', '1580', '2822', '181',\n",
              "       '3158', '4383', '3881', '4037', '202', '292', '330', '2209',\n",
              "       '4550', '4435', '4779', '1831', '2255', '539', '5464', '6041',\n",
              "       '4068', '4683', '4033', '6314', '614', '3149', '4005', '4880',\n",
              "       '4136', '705', '570', '269', '4275', '5999', '4421', '6930',\n",
              "       '5195', '546', '493', '995', '1163', '6676', '3608', '774', '1421',\n",
              "       '4064', '2725', '5934', '1867', '3721', '2374', '2909', '1648',\n",
              "       '799', '7102', '3941', '7422', '437', '1231', '1696', '4921',\n",
              "       '221', '6500', '3575', '4061', '651', '753', '518', '5537', '4108',\n",
              "       '5376', '3066', '177', '36', '299', '1447', '2599', '702', '133',\n",
              "       '153', '500', '2127', '2203'], dtype='<U10')"
            ]
          },
          "metadata": {},
          "execution_count": 14
        }
      ]
    },
    {
      "cell_type": "code",
      "source": [
        "hours_of_sleep"
      ],
      "metadata": {
        "colab": {
          "base_uri": "https://localhost:8080/"
        },
        "id": "_oNzcZGcn8gK",
        "outputId": "6408a74d-b0c2-4a6c-8f5d-055700fcd63b"
      },
      "execution_count": 15,
      "outputs": [
        {
          "output_type": "execute_result",
          "data": {
            "text/plain": [
              "array(['5', '8', '5', '4', '5', '6', '6', '7', '5', '6', '8', '5', '6',\n",
              "       '7', '5', '6', '8', '5', '4', '5', '6', '8', '5', '6', '5', '8',\n",
              "       '5', '4', '5', '4', '5', '4', '3', '2', '9', '5', '6', '4', '5',\n",
              "       '8', '4', '5', '6', '5', '6', '5', '6', '5', '6', '5', '6', '7',\n",
              "       '6', '7', '6', '5', '6', '7', '8', '8', '7', '8', '5', '4', '3',\n",
              "       '3', '4', '5', '5', '5', '3', '4', '4', '5', '5', '5', '5', '5',\n",
              "       '5', '4', '3', '4', '5', '5', '4', '5', '3', '3', '3', '2', '3',\n",
              "       '2', '8', '5', '5', '5'], dtype='<U10')"
            ]
          },
          "metadata": {},
          "execution_count": 15
        }
      ]
    },
    {
      "cell_type": "code",
      "source": [
        "#Here type of all the above array element is string\n",
        "\n",
        "print(type(mood))\n",
        "print(type(mood[0]))"
      ],
      "metadata": {
        "id": "51vn9i1KPnLn",
        "outputId": "46ff6dbc-f42b-4cb8-acb3-e324d6a235ae",
        "colab": {
          "base_uri": "https://localhost:8080/"
        }
      },
      "execution_count": 31,
      "outputs": [
        {
          "output_type": "stream",
          "name": "stdout",
          "text": [
            "<class 'numpy.ndarray'>\n",
            "<class 'numpy.str_'>\n"
          ]
        }
      ]
    },
    {
      "cell_type": "code",
      "source": [
        "#Convert these array into int\n",
        "steps_count = np.array(step_count,dtype=int)\n",
        "hours_of_sleep = np.array(hours_of_sleep,dtype=int)\n",
        "calories_burned = np.array(calories_burned,dtype=int)"
      ],
      "metadata": {
        "id": "89azY5XCoSxt"
      },
      "execution_count": 35,
      "outputs": []
    },
    {
      "cell_type": "code",
      "source": [
        "#Here type of array element after converting to int\n",
        "print(type(steps_count))\n",
        "print(type(steps_count[0]))"
      ],
      "metadata": {
        "id": "hYBrpUQeQmRF",
        "outputId": "c5602b36-94c2-455d-e138-cb2826a7fb1e",
        "colab": {
          "base_uri": "https://localhost:8080/"
        }
      },
      "execution_count": 38,
      "outputs": [
        {
          "output_type": "stream",
          "name": "stdout",
          "text": [
            "<class 'numpy.ndarray'>\n",
            "<class 'numpy.int64'>\n"
          ]
        }
      ]
    },
    {
      "cell_type": "code",
      "source": [
        "#Another method to convert these array into int\n",
        "calories_burned.astype(int)"
      ],
      "metadata": {
        "colab": {
          "base_uri": "https://localhost:8080/"
        },
        "id": "rEFcfn8xo_1Z",
        "outputId": "6ba19d44-1fc2-44c8-fb71-d9135a838a86"
      },
      "execution_count": 41,
      "outputs": [
        {
          "output_type": "execute_result",
          "data": {
            "text/plain": [
              "array([181, 197,   0, 174, 223, 149, 140,  38,   1,  40, 101, 152, 150,\n",
              "       113,  49,  86,   6,  99, 143, 125, 129,   6,   9,  10,  72, 150,\n",
              "       141, 156,  57,  72,  17, 181, 197, 131, 154, 137, 193,  19, 101,\n",
              "       139, 164, 137,  22,  17,   9, 145, 192, 146, 234, 167,  16,  17,\n",
              "        32,  35, 220, 116,  23,  44, 131,  86, 194,  60, 121,  76,  93,\n",
              "        53,  25, 227, 125, 243,  14,  39,  55, 158,   7, 213, 116, 129,\n",
              "        21,  28,  16, 180, 138, 176,  99,   5,   1,  10,  47,  84,  23,\n",
              "         4,   0,   0,   0,   0])"
            ]
          },
          "metadata": {},
          "execution_count": 41
        }
      ]
    },
    {
      "cell_type": "code",
      "source": [
        "type(step_count)"
      ],
      "metadata": {
        "colab": {
          "base_uri": "https://localhost:8080/"
        },
        "id": "0C5YKbdUooCZ",
        "outputId": "e6815fce-a7bc-482a-906d-5501bf441d5d"
      },
      "execution_count": 42,
      "outputs": [
        {
          "output_type": "execute_result",
          "data": {
            "text/plain": [
              "numpy.ndarray"
            ]
          },
          "metadata": {},
          "execution_count": 42
        }
      ]
    },
    {
      "cell_type": "code",
      "source": [
        "int(step_count) #this will give error as step_count is a numpy ndarry type(vector) not scalar"
      ],
      "metadata": {
        "colab": {
          "base_uri": "https://localhost:8080/",
          "height": 141
        },
        "id": "GGsZVogUovlT",
        "outputId": "13e48417-b4e9-403e-c073-8f37d2711363"
      },
      "execution_count": 44,
      "outputs": [
        {
          "output_type": "error",
          "ename": "TypeError",
          "evalue": "only length-1 arrays can be converted to Python scalars",
          "traceback": [
            "\u001b[0;31m---------------------------------------------------------------------------\u001b[0m",
            "\u001b[0;31mTypeError\u001b[0m                                 Traceback (most recent call last)",
            "\u001b[0;32m<ipython-input-44-54e22970786a>\u001b[0m in \u001b[0;36m<cell line: 1>\u001b[0;34m()\u001b[0m\n\u001b[0;32m----> 1\u001b[0;31m \u001b[0mint\u001b[0m\u001b[0;34m(\u001b[0m\u001b[0mstep_count\u001b[0m\u001b[0;34m)\u001b[0m \u001b[0;31m#this will give error as step_count is a numpy ndarry type(vector) not scalar\u001b[0m\u001b[0;34m\u001b[0m\u001b[0;34m\u001b[0m\u001b[0m\n\u001b[0m",
            "\u001b[0;31mTypeError\u001b[0m: only length-1 arrays can be converted to Python scalars"
          ]
        }
      ]
    },
    {
      "cell_type": "code",
      "source": [
        "steps_count"
      ],
      "metadata": {
        "colab": {
          "base_uri": "https://localhost:8080/"
        },
        "id": "_5BzdGABok8i",
        "outputId": "45c9c351-3a76-4df3-9145-51055cafa816"
      },
      "execution_count": 45,
      "outputs": [
        {
          "output_type": "execute_result",
          "data": {
            "text/plain": [
              "array([5464, 6041,   25, 5461, 6915, 4545, 4340, 1230,   61, 1258, 3148,\n",
              "       4687, 4732, 3519, 1580, 2822,  181, 3158, 4383, 3881, 4037,  202,\n",
              "        292,  330, 2209, 4550, 4435, 4779, 1831, 2255,  539, 5464, 6041,\n",
              "       4068, 4683, 4033, 6314,  614, 3149, 4005, 4880, 4136,  705,  570,\n",
              "        269, 4275, 5999, 4421, 6930, 5195,  546,  493,  995, 1163, 6676,\n",
              "       3608,  774, 1421, 4064, 2725, 5934, 1867, 3721, 2374, 2909, 1648,\n",
              "        799, 7102, 3941, 7422,  437, 1231, 1696, 4921,  221, 6500, 3575,\n",
              "       4061,  651,  753,  518, 5537, 4108, 5376, 3066,  177,   36,  299,\n",
              "       1447, 2599,  702,  133,  153,  500, 2127, 2203])"
            ]
          },
          "metadata": {},
          "execution_count": 45
        }
      ]
    },
    {
      "cell_type": "code",
      "source": [
        "#avg step count\n",
        "np.mean(steps_count)"
      ],
      "metadata": {
        "colab": {
          "base_uri": "https://localhost:8080/"
        },
        "id": "RW8RYc5VpFa5",
        "outputId": "7525b978-472d-4327-b0b5-f8a895c379f6"
      },
      "execution_count": null,
      "outputs": [
        {
          "output_type": "execute_result",
          "data": {
            "text/plain": [
              "2935.9375"
            ]
          },
          "metadata": {},
          "execution_count": 22
        }
      ]
    },
    {
      "cell_type": "code",
      "source": [
        "#day my step count is highest? Following line will give max step count, not the day at which max step count happened\n",
        "np.max(steps_count)"
      ],
      "metadata": {
        "colab": {
          "base_uri": "https://localhost:8080/"
        },
        "id": "z2vBTaydpPjI",
        "outputId": "cafe8b43-cf30-4875-98f9-fa3abb0afef8"
      },
      "execution_count": 46,
      "outputs": [
        {
          "output_type": "execute_result",
          "data": {
            "text/plain": [
              "7422"
            ]
          },
          "metadata": {},
          "execution_count": 46
        }
      ]
    },
    {
      "cell_type": "code",
      "source": [
        "#index values\n",
        "np.argmax(steps_count)"
      ],
      "metadata": {
        "colab": {
          "base_uri": "https://localhost:8080/"
        },
        "id": "cGuv7JKip2P1",
        "outputId": "6ad65049-0406-4e8b-e053-438fe6385e34"
      },
      "execution_count": 47,
      "outputs": [
        {
          "output_type": "execute_result",
          "data": {
            "text/plain": [
              "69"
            ]
          },
          "metadata": {},
          "execution_count": 47
        }
      ]
    },
    {
      "cell_type": "code",
      "source": [
        "#day my step count is highest?\n",
        "date[69]"
      ],
      "metadata": {
        "colab": {
          "base_uri": "https://localhost:8080/",
          "height": 35
        },
        "id": "kNdMAEiEp-wJ",
        "outputId": "20160d25-ece4-4fae-ab60-7680c44f1d40"
      },
      "execution_count": 50,
      "outputs": [
        {
          "output_type": "execute_result",
          "data": {
            "text/plain": [
              "'14-12-2017'"
            ],
            "application/vnd.google.colaboratory.intrinsic+json": {
              "type": "string"
            }
          },
          "metadata": {},
          "execution_count": 50
        }
      ]
    },
    {
      "cell_type": "code",
      "source": [
        "#day my step count is highest?\n",
        "#method 1\n",
        "date[np.argmax(steps_count)]"
      ],
      "metadata": {
        "colab": {
          "base_uri": "https://localhost:8080/",
          "height": 35
        },
        "id": "h_MbyXwnqET1",
        "outputId": "2ccde8d6-3b35-4791-cf15-8caaecb4704c"
      },
      "execution_count": 48,
      "outputs": [
        {
          "output_type": "execute_result",
          "data": {
            "text/plain": [
              "'14-12-2017'"
            ],
            "application/vnd.google.colaboratory.intrinsic+json": {
              "type": "string"
            }
          },
          "metadata": {},
          "execution_count": 48
        }
      ]
    },
    {
      "cell_type": "code",
      "source": [
        "#alternate way to solve by masking/fancy indexing\n",
        "steps_count == 7422"
      ],
      "metadata": {
        "colab": {
          "base_uri": "https://localhost:8080/"
        },
        "id": "phxtwXnYqK5q",
        "outputId": "65c8e595-be50-4757-ce7b-8257908a0fc3"
      },
      "execution_count": 54,
      "outputs": [
        {
          "output_type": "execute_result",
          "data": {
            "text/plain": [
              "array([False, False, False, False, False, False, False, False, False,\n",
              "       False, False, False, False, False, False, False, False, False,\n",
              "       False, False, False, False, False, False, False, False, False,\n",
              "       False, False, False, False, False, False, False, False, False,\n",
              "       False, False, False, False, False, False, False, False, False,\n",
              "       False, False, False, False, False, False, False, False, False,\n",
              "       False, False, False, False, False, False, False, False, False,\n",
              "       False, False, False, False, False, False,  True, False, False,\n",
              "       False, False, False, False, False, False, False, False, False,\n",
              "       False, False, False, False, False, False, False, False, False,\n",
              "       False, False, False, False, False, False])"
            ]
          },
          "metadata": {},
          "execution_count": 54
        }
      ]
    },
    {
      "cell_type": "code",
      "source": [
        "#method 2\n",
        "date[steps_count == np.max(steps_count)]"
      ],
      "metadata": {
        "colab": {
          "base_uri": "https://localhost:8080/"
        },
        "id": "fED2EUqDqZ0N",
        "outputId": "740aadf7-8e9d-47e4-be2c-d9c6a09f8be1"
      },
      "execution_count": 51,
      "outputs": [
        {
          "output_type": "execute_result",
          "data": {
            "text/plain": [
              "array(['14-12-2017'], dtype='<U10')"
            ]
          },
          "metadata": {},
          "execution_count": 51
        }
      ]
    },
    {
      "cell_type": "markdown",
      "source": [
        "Q. In the above output what does '<U10' mean?\n",
        "\n",
        "A.\n",
        "In Python, especially when working with libraries like NumPy, \"dtype\" stands for \"data type.\" It specifies the type of data stored in a NumPy array.\n",
        "\n",
        "In the context of dtype='<U10', here's what each part means:\n",
        "\n",
        "dtype: It indicates the data type.\n",
        "'<U10': This is a specific dtype code indicating a Unicode string with a maximum length of 10 characters.\n",
        "Breaking it down further:\n",
        "\n",
        "'U': This indicates Unicode strings.\n",
        "10: This specifies the maximum length of each string element.\n",
        "So, dtype='<U10' signifies that the array contains Unicode strings, each with a maximum length of 10 characters."
      ],
      "metadata": {
        "id": "Bk9kine9WKpv"
      }
    },
    {
      "cell_type": "markdown",
      "source": [
        "Q. The difference between argmax and masking?\n",
        "\n",
        "A. If we have array [10, 10, 1, 2, 3]. argmax will give 1st index which have max value i.e. 0, whereas masking method will give both index i.e. 0 and 1."
      ],
      "metadata": {
        "id": "yBTc7aqhYHOL"
      }
    },
    {
      "cell_type": "code",
      "source": [
        "#avg step count when mood is sad\n",
        "#avg step count when mood is happy\n",
        "mood"
      ],
      "metadata": {
        "colab": {
          "base_uri": "https://localhost:8080/"
        },
        "id": "7Rol3E3Krh4f",
        "outputId": "3a9e5240-3143-4fa6-ab72-4e877b604688"
      },
      "execution_count": 52,
      "outputs": [
        {
          "output_type": "execute_result",
          "data": {
            "text/plain": [
              "array(['Neutral', 'Sad', 'Sad', 'Sad', 'Neutral', 'Sad', 'Sad', 'Sad',\n",
              "       'Sad', 'Sad', 'Sad', 'Sad', 'Happy', 'Sad', 'Sad', 'Sad', 'Sad',\n",
              "       'Neutral', 'Neutral', 'Neutral', 'Neutral', 'Neutral', 'Neutral',\n",
              "       'Happy', 'Neutral', 'Happy', 'Happy', 'Happy', 'Happy', 'Happy',\n",
              "       'Happy', 'Happy', 'Neutral', 'Happy', 'Happy', 'Happy', 'Happy',\n",
              "       'Happy', 'Happy', 'Happy', 'Happy', 'Happy', 'Happy', 'Neutral',\n",
              "       'Happy', 'Happy', 'Happy', 'Happy', 'Happy', 'Happy', 'Happy',\n",
              "       'Happy', 'Happy', 'Neutral', 'Sad', 'Happy', 'Happy', 'Happy',\n",
              "       'Happy', 'Happy', 'Happy', 'Happy', 'Sad', 'Neutral', 'Neutral',\n",
              "       'Sad', 'Sad', 'Neutral', 'Neutral', 'Happy', 'Neutral', 'Neutral',\n",
              "       'Sad', 'Neutral', 'Sad', 'Neutral', 'Neutral', 'Sad', 'Sad', 'Sad',\n",
              "       'Sad', 'Happy', 'Neutral', 'Happy', 'Neutral', 'Sad', 'Sad', 'Sad',\n",
              "       'Neutral', 'Neutral', 'Sad', 'Sad', 'Happy', 'Neutral', 'Neutral',\n",
              "       'Happy'], dtype='<U10')"
            ]
          },
          "metadata": {},
          "execution_count": 52
        }
      ]
    },
    {
      "cell_type": "code",
      "source": [
        "mood == 'Happy'"
      ],
      "metadata": {
        "colab": {
          "base_uri": "https://localhost:8080/"
        },
        "id": "3g8FhcvFruQq",
        "outputId": "fc042470-8e8c-4d28-f3cb-19fa72f653f4"
      },
      "execution_count": 55,
      "outputs": [
        {
          "output_type": "execute_result",
          "data": {
            "text/plain": [
              "array([False, False, False, False, False, False, False, False, False,\n",
              "       False, False, False,  True, False, False, False, False, False,\n",
              "       False, False, False, False, False,  True, False,  True,  True,\n",
              "        True,  True,  True,  True,  True, False,  True,  True,  True,\n",
              "        True,  True,  True,  True,  True,  True,  True, False,  True,\n",
              "        True,  True,  True,  True,  True,  True,  True,  True, False,\n",
              "       False,  True,  True,  True,  True,  True,  True,  True, False,\n",
              "       False, False, False, False, False, False,  True, False, False,\n",
              "       False, False, False, False, False, False, False, False, False,\n",
              "        True, False,  True, False, False, False, False, False, False,\n",
              "       False, False,  True, False, False,  True])"
            ]
          },
          "metadata": {},
          "execution_count": 55
        }
      ]
    },
    {
      "cell_type": "code",
      "source": [
        "np.mean(steps_count[mood == 'Happy'])"
      ],
      "metadata": {
        "colab": {
          "base_uri": "https://localhost:8080/"
        },
        "id": "89Z8mB_5r5dz",
        "outputId": "0c90afaa-7407-49ed-9b82-f6fb2373bf3d"
      },
      "execution_count": 56,
      "outputs": [
        {
          "output_type": "execute_result",
          "data": {
            "text/plain": [
              "3392.725"
            ]
          },
          "metadata": {},
          "execution_count": 56
        }
      ]
    },
    {
      "cell_type": "code",
      "source": [
        "np.mean(steps_count[mood == 'Sad'])"
      ],
      "metadata": {
        "colab": {
          "base_uri": "https://localhost:8080/"
        },
        "id": "FL8Z4MrmsD68",
        "outputId": "c0cbd8e4-ae4b-460d-e02d-b63b828f7e69"
      },
      "execution_count": 57,
      "outputs": [
        {
          "output_type": "execute_result",
          "data": {
            "text/plain": [
              "2103.0689655172414"
            ]
          },
          "metadata": {},
          "execution_count": 57
        }
      ]
    },
    {
      "cell_type": "code",
      "source": [
        "steps_count[(mood == 'Sad') | (mood == 'Neutral')]"
      ],
      "metadata": {
        "colab": {
          "base_uri": "https://localhost:8080/"
        },
        "id": "C6HN_yYmsczx",
        "outputId": "392b1d0d-e799-423b-f78d-8de8d6886588"
      },
      "execution_count": 58,
      "outputs": [
        {
          "output_type": "execute_result",
          "data": {
            "text/plain": [
              "array([5464, 6041,   25, 5461, 6915, 4545, 4340, 1230,   61, 1258, 3148,\n",
              "       4687, 3519, 1580, 2822,  181, 3158, 4383, 3881, 4037,  202,  292,\n",
              "       2209, 6041,  570, 1163, 6676, 3721, 2374, 2909, 1648,  799, 7102,\n",
              "       3941,  437, 1231, 1696, 4921,  221, 6500, 3575, 4061,  651,  753,\n",
              "        518, 4108, 3066,  177,   36,  299, 1447, 2599,  702,  133,  500,\n",
              "       2127])"
            ]
          },
          "metadata": {},
          "execution_count": 58
        }
      ]
    },
    {
      "cell_type": "markdown",
      "source": [
        "#sorting"
      ],
      "metadata": {
        "id": "4ST7tZxZtAWp"
      }
    },
    {
      "cell_type": "code",
      "source": [
        "a = np.array([9,3,2,5,1,6])\n",
        "np.sort(a) #copy of array"
      ],
      "metadata": {
        "colab": {
          "base_uri": "https://localhost:8080/"
        },
        "id": "i523BEN8tE0U",
        "outputId": "18957a47-30a6-40f6-b8de-a7ed22d7f888"
      },
      "execution_count": 59,
      "outputs": [
        {
          "output_type": "execute_result",
          "data": {
            "text/plain": [
              "array([1, 2, 3, 5, 6, 9])"
            ]
          },
          "metadata": {},
          "execution_count": 59
        }
      ]
    },
    {
      "cell_type": "code",
      "source": [
        "a"
      ],
      "metadata": {
        "colab": {
          "base_uri": "https://localhost:8080/"
        },
        "id": "lVGj-dpKtikJ",
        "outputId": "2f9d8a61-7c67-4a1f-a0be-e511a6b62179"
      },
      "execution_count": 60,
      "outputs": [
        {
          "output_type": "execute_result",
          "data": {
            "text/plain": [
              "array([9, 3, 2, 5, 1, 6])"
            ]
          },
          "metadata": {},
          "execution_count": 60
        }
      ]
    },
    {
      "cell_type": "code",
      "source": [
        "a.sort() #default is asc, this is inplace method"
      ],
      "metadata": {
        "id": "JSHquBJ6ts8e"
      },
      "execution_count": 61,
      "outputs": []
    },
    {
      "cell_type": "code",
      "source": [
        "a"
      ],
      "metadata": {
        "colab": {
          "base_uri": "https://localhost:8080/"
        },
        "id": "jY7fnO5Et2FH",
        "outputId": "ba3654ff-c611-4ecb-cf24-aeb7d6018f86"
      },
      "execution_count": 62,
      "outputs": [
        {
          "output_type": "execute_result",
          "data": {
            "text/plain": [
              "array([1, 2, 3, 5, 6, 9])"
            ]
          },
          "metadata": {},
          "execution_count": 62
        }
      ]
    },
    {
      "cell_type": "code",
      "source": [
        "#desc #jugaad\n",
        "a = np.array([9,3,2,5,1,6])\n",
        "print(a)\n",
        "a.sort()\n",
        "print(a)\n",
        "a[::-1]"
      ],
      "metadata": {
        "colab": {
          "base_uri": "https://localhost:8080/"
        },
        "id": "usYtNoAluBwM",
        "outputId": "94a4cf29-60d4-42d8-d1a0-1329cd85c6bb"
      },
      "execution_count": 63,
      "outputs": [
        {
          "output_type": "stream",
          "name": "stdout",
          "text": [
            "[9 3 2 5 1 6]\n",
            "[1 2 3 5 6 9]\n"
          ]
        },
        {
          "output_type": "execute_result",
          "data": {
            "text/plain": [
              "array([9, 6, 5, 3, 2, 1])"
            ]
          },
          "metadata": {},
          "execution_count": 63
        }
      ]
    },
    {
      "cell_type": "markdown",
      "source": [
        "Q. In above code what does a[::-1] mean?\n",
        "\n",
        "A.In Python, when you use slicing notation [::-1], it reverses the order of elements in the sequence a.\n",
        "\n",
        "Here's what each part means:\n",
        "\n",
        "a: This is the sequence or collection that you want to reverse.\n",
        "[::-1]: This is the slicing notation that specifies the start, stop, and step parameters for the slice. In this case, ::-1 indicates:\n",
        ":: This indicates that you want to slice the entire sequence.\n",
        "::: This indicates that you want to consider every element.\n",
        "-1: This indicates the step size of -1, meaning that you're iterating through the sequence in reverse order.\n",
        "Putting it all together, a[::-1] reverses the order of elements in the sequence a. For example:"
      ],
      "metadata": {
        "id": "JUgVR03ocjEk"
      }
    },
    {
      "cell_type": "code",
      "source": [
        "# function help method can be called as below\n",
        "np.sort?"
      ],
      "metadata": {
        "id": "1LUkPgvCurYK"
      },
      "execution_count": 65,
      "outputs": []
    },
    {
      "cell_type": "markdown",
      "source": [
        "#sorting in 2d"
      ],
      "metadata": {
        "id": "MheocphMvOYw"
      }
    },
    {
      "cell_type": "code",
      "source": [
        "a = np.array([[6,2,3],[4,9,2],[8,2,1]])\n",
        "a"
      ],
      "metadata": {
        "colab": {
          "base_uri": "https://localhost:8080/"
        },
        "id": "QmpiHG8DvQRF",
        "outputId": "740f54ff-1dd4-4a8d-b200-1a247654dc17"
      },
      "execution_count": 66,
      "outputs": [
        {
          "output_type": "execute_result",
          "data": {
            "text/plain": [
              "array([[6, 2, 3],\n",
              "       [4, 9, 2],\n",
              "       [8, 2, 1]])"
            ]
          },
          "metadata": {},
          "execution_count": 66
        }
      ]
    },
    {
      "cell_type": "code",
      "source": [
        "a.shape"
      ],
      "metadata": {
        "colab": {
          "base_uri": "https://localhost:8080/"
        },
        "id": "RYuO-W9gvg0U",
        "outputId": "841086b8-da69-440f-eba9-e9d01a391420"
      },
      "execution_count": 67,
      "outputs": [
        {
          "output_type": "execute_result",
          "data": {
            "text/plain": [
              "(3, 3)"
            ]
          },
          "metadata": {},
          "execution_count": 67
        }
      ]
    },
    {
      "cell_type": "code",
      "source": [
        "np.sort(a) #defult axis = 1"
      ],
      "metadata": {
        "colab": {
          "base_uri": "https://localhost:8080/"
        },
        "id": "lNBYF4i6vrrt",
        "outputId": "2bb6bb57-7677-4274-af32-278473209d10"
      },
      "execution_count": 70,
      "outputs": [
        {
          "output_type": "execute_result",
          "data": {
            "text/plain": [
              "array([[2, 3, 6],\n",
              "       [2, 4, 9],\n",
              "       [1, 2, 8]])"
            ]
          },
          "metadata": {},
          "execution_count": 70
        }
      ]
    },
    {
      "cell_type": "code",
      "source": [
        "np.sort(a,axis=1)"
      ],
      "metadata": {
        "colab": {
          "base_uri": "https://localhost:8080/"
        },
        "id": "D-5SVAJBwYvJ",
        "outputId": "11fc44df-804c-477c-b4d8-385ba7e91812"
      },
      "execution_count": 71,
      "outputs": [
        {
          "output_type": "execute_result",
          "data": {
            "text/plain": [
              "array([[2, 3, 6],\n",
              "       [2, 4, 9],\n",
              "       [1, 2, 8]])"
            ]
          },
          "metadata": {},
          "execution_count": 71
        }
      ]
    },
    {
      "cell_type": "code",
      "source": [
        "a"
      ],
      "metadata": {
        "colab": {
          "base_uri": "https://localhost:8080/"
        },
        "id": "xACzDdbkwkHI",
        "outputId": "b7d1a142-85e0-4e4f-e6b2-9b4c0ddfb8d6"
      },
      "execution_count": 72,
      "outputs": [
        {
          "output_type": "execute_result",
          "data": {
            "text/plain": [
              "array([[6, 2, 3],\n",
              "       [4, 9, 2],\n",
              "       [8, 2, 1]])"
            ]
          },
          "metadata": {},
          "execution_count": 72
        }
      ]
    },
    {
      "cell_type": "code",
      "source": [
        "np.sort(a,axis=0)"
      ],
      "metadata": {
        "colab": {
          "base_uri": "https://localhost:8080/"
        },
        "id": "J9Sf6qVmwd_m",
        "outputId": "05996c63-140e-41c7-dc2e-8ee1b15d277c"
      },
      "execution_count": 73,
      "outputs": [
        {
          "output_type": "execute_result",
          "data": {
            "text/plain": [
              "array([[4, 2, 1],\n",
              "       [6, 2, 2],\n",
              "       [8, 9, 3]])"
            ]
          },
          "metadata": {},
          "execution_count": 73
        }
      ]
    },
    {
      "cell_type": "code",
      "source": [
        "np.sort(a.flatten())"
      ],
      "metadata": {
        "colab": {
          "base_uri": "https://localhost:8080/"
        },
        "id": "vaYJbhIJxMU7",
        "outputId": "883eb6cb-9656-49b0-902c-e26d00ae3118"
      },
      "execution_count": null,
      "outputs": [
        {
          "output_type": "execute_result",
          "data": {
            "text/plain": [
              "array([1, 2, 2, 2, 3, 4, 6, 8, 9])"
            ]
          },
          "metadata": {},
          "execution_count": 55
        }
      ]
    },
    {
      "cell_type": "code",
      "source": [
        "np.sort(a.flatten()).reshape(a.shape) #complete sorting"
      ],
      "metadata": {
        "colab": {
          "base_uri": "https://localhost:8080/"
        },
        "id": "2C2PkX25xkqK",
        "outputId": "92633d90-691b-4271-e490-7ed1d0e5f48b"
      },
      "execution_count": null,
      "outputs": [
        {
          "output_type": "execute_result",
          "data": {
            "text/plain": [
              "array([[1, 2, 2],\n",
              "       [2, 3, 4],\n",
              "       [6, 8, 9]])"
            ]
          },
          "metadata": {},
          "execution_count": 56
        }
      ]
    },
    {
      "cell_type": "code",
      "source": [
        "a = np.array([[6,2,3],[4,9,2],[8,2,1]])\n",
        "a"
      ],
      "metadata": {
        "colab": {
          "base_uri": "https://localhost:8080/"
        },
        "id": "StJxKGO-x37m",
        "outputId": "aeab18d2-0738-49a6-a517-ecbe922aec96"
      },
      "execution_count": null,
      "outputs": [
        {
          "output_type": "execute_result",
          "data": {
            "text/plain": [
              "array([[6, 2, 3],\n",
              "       [4, 9, 2],\n",
              "       [8, 2, 1]])"
            ]
          },
          "metadata": {},
          "execution_count": 57
        }
      ]
    },
    {
      "cell_type": "code",
      "source": [
        "np.sort(a,axis= None).reshape(a.shape)"
      ],
      "metadata": {
        "colab": {
          "base_uri": "https://localhost:8080/"
        },
        "id": "10q5aof2x1hR",
        "outputId": "e9e4cc6e-eb2f-4fe5-b02a-b447fc52de97"
      },
      "execution_count": null,
      "outputs": [
        {
          "output_type": "execute_result",
          "data": {
            "text/plain": [
              "array([[1, 2, 2],\n",
              "       [2, 3, 4],\n",
              "       [6, 8, 9]])"
            ]
          },
          "metadata": {},
          "execution_count": 59
        }
      ]
    },
    {
      "cell_type": "code",
      "source": [
        "#quiz\n",
        "a = np.array([[23,4,43],\n",
        "              [12,89,3],\n",
        "              [69,420,0]])\n",
        "b = np.sort(a)\n",
        "b"
      ],
      "metadata": {
        "colab": {
          "base_uri": "https://localhost:8080/"
        },
        "id": "DX6MfzzTySvc",
        "outputId": "bd690d38-fb36-4809-e001-51588ad8343e"
      },
      "execution_count": null,
      "outputs": [
        {
          "output_type": "execute_result",
          "data": {
            "text/plain": [
              "array([[  4,  23,  43],\n",
              "       [  3,  12,  89],\n",
              "       [  0,  69, 420]])"
            ]
          },
          "metadata": {},
          "execution_count": 60
        }
      ]
    },
    {
      "cell_type": "markdown",
      "source": [
        "#Element Wise operations"
      ],
      "metadata": {
        "id": "ECwxx1lu0o-p"
      }
    },
    {
      "cell_type": "code",
      "source": [
        "a = np.arange(1,6)\n",
        "a"
      ],
      "metadata": {
        "colab": {
          "base_uri": "https://localhost:8080/"
        },
        "id": "2085_pzS0tEL",
        "outputId": "e5d1c7cb-0235-4f54-fa08-0fabdcad0fcd"
      },
      "execution_count": null,
      "outputs": [
        {
          "output_type": "execute_result",
          "data": {
            "text/plain": [
              "array([1, 2, 3, 4, 5])"
            ]
          },
          "metadata": {},
          "execution_count": 61
        }
      ]
    },
    {
      "cell_type": "code",
      "source": [
        "a+5"
      ],
      "metadata": {
        "colab": {
          "base_uri": "https://localhost:8080/"
        },
        "id": "RV5aDuAK03DJ",
        "outputId": "a1802e1b-d9c0-4be4-950d-3b9213a6b9ab"
      },
      "execution_count": null,
      "outputs": [
        {
          "output_type": "execute_result",
          "data": {
            "text/plain": [
              "array([ 6,  7,  8,  9, 10])"
            ]
          },
          "metadata": {},
          "execution_count": 62
        }
      ]
    },
    {
      "cell_type": "code",
      "source": [
        "a*5"
      ],
      "metadata": {
        "colab": {
          "base_uri": "https://localhost:8080/"
        },
        "id": "Kc8IMo0e0_h7",
        "outputId": "eff23ba9-0216-46bf-8ee0-0bc39b6df01a"
      },
      "execution_count": null,
      "outputs": [
        {
          "output_type": "execute_result",
          "data": {
            "text/plain": [
              "array([ 5, 10, 15, 20, 25])"
            ]
          },
          "metadata": {},
          "execution_count": 63
        }
      ]
    },
    {
      "cell_type": "code",
      "source": [
        "b = np.arange(6,11)\n",
        "b"
      ],
      "metadata": {
        "colab": {
          "base_uri": "https://localhost:8080/"
        },
        "id": "td0VolHP1KjZ",
        "outputId": "1014d03b-fe38-4b86-ac59-6b1a1eb8a8fb"
      },
      "execution_count": null,
      "outputs": [
        {
          "output_type": "execute_result",
          "data": {
            "text/plain": [
              "array([ 6,  7,  8,  9, 10])"
            ]
          },
          "metadata": {},
          "execution_count": 64
        }
      ]
    },
    {
      "cell_type": "code",
      "source": [
        "a"
      ],
      "metadata": {
        "colab": {
          "base_uri": "https://localhost:8080/"
        },
        "id": "AGlh_4MG1SzA",
        "outputId": "902b0351-522d-4a22-cd7e-65cfcf2a8dd2"
      },
      "execution_count": null,
      "outputs": [
        {
          "output_type": "execute_result",
          "data": {
            "text/plain": [
              "array([1, 2, 3, 4, 5])"
            ]
          },
          "metadata": {},
          "execution_count": 65
        }
      ]
    },
    {
      "cell_type": "code",
      "source": [
        "a+b"
      ],
      "metadata": {
        "colab": {
          "base_uri": "https://localhost:8080/"
        },
        "id": "zb7yx0KF1cjC",
        "outputId": "70d5d9a8-1329-41e4-82bc-35eecd43ad1e"
      },
      "execution_count": null,
      "outputs": [
        {
          "output_type": "execute_result",
          "data": {
            "text/plain": [
              "array([ 7,  9, 11, 13, 15])"
            ]
          },
          "metadata": {},
          "execution_count": 66
        }
      ]
    },
    {
      "cell_type": "code",
      "source": [
        "a*b"
      ],
      "metadata": {
        "colab": {
          "base_uri": "https://localhost:8080/"
        },
        "id": "AzoZA2IH1kO-",
        "outputId": "7d4eeff7-3621-4325-f45c-82ee65cfcdd5"
      },
      "execution_count": null,
      "outputs": [
        {
          "output_type": "execute_result",
          "data": {
            "text/plain": [
              "array([ 6, 14, 24, 36, 50])"
            ]
          },
          "metadata": {},
          "execution_count": 68
        }
      ]
    },
    {
      "cell_type": "code",
      "source": [
        "c = np.arange(1,4)\n",
        "c"
      ],
      "metadata": {
        "colab": {
          "base_uri": "https://localhost:8080/"
        },
        "id": "1YkTSmYN1n3y",
        "outputId": "04bf70a0-acef-4978-b714-c0442c4f5b30"
      },
      "execution_count": null,
      "outputs": [
        {
          "output_type": "execute_result",
          "data": {
            "text/plain": [
              "array([1, 2, 3])"
            ]
          },
          "metadata": {},
          "execution_count": 70
        }
      ]
    },
    {
      "cell_type": "code",
      "source": [
        "a+c"
      ],
      "metadata": {
        "colab": {
          "base_uri": "https://localhost:8080/",
          "height": 141
        },
        "id": "U5xj_9d51uYV",
        "outputId": "6eed2369-c896-4edc-cbf9-4d852128173f"
      },
      "execution_count": null,
      "outputs": [
        {
          "output_type": "error",
          "ename": "ValueError",
          "evalue": "operands could not be broadcast together with shapes (5,) (3,) ",
          "traceback": [
            "\u001b[0;31m---------------------------------------------------------------------------\u001b[0m",
            "\u001b[0;31mValueError\u001b[0m                                Traceback (most recent call last)",
            "\u001b[0;32m<ipython-input-71-e200917bc55f>\u001b[0m in \u001b[0;36m<cell line: 1>\u001b[0;34m()\u001b[0m\n\u001b[0;32m----> 1\u001b[0;31m \u001b[0ma\u001b[0m\u001b[0;34m+\u001b[0m\u001b[0mc\u001b[0m\u001b[0;34m\u001b[0m\u001b[0;34m\u001b[0m\u001b[0m\n\u001b[0m",
            "\u001b[0;31mValueError\u001b[0m: operands could not be broadcast together with shapes (5,) (3,) "
          ]
        }
      ]
    },
    {
      "cell_type": "code",
      "source": [
        "a*c"
      ],
      "metadata": {
        "colab": {
          "base_uri": "https://localhost:8080/",
          "height": 141
        },
        "id": "ZaOo7OVv15q9",
        "outputId": "d24c6613-55f5-4336-a7ae-9d4c5541580c"
      },
      "execution_count": null,
      "outputs": [
        {
          "output_type": "error",
          "ename": "ValueError",
          "evalue": "operands could not be broadcast together with shapes (5,) (3,) ",
          "traceback": [
            "\u001b[0;31m---------------------------------------------------------------------------\u001b[0m",
            "\u001b[0;31mValueError\u001b[0m                                Traceback (most recent call last)",
            "\u001b[0;32m<ipython-input-72-531f218278af>\u001b[0m in \u001b[0;36m<cell line: 1>\u001b[0;34m()\u001b[0m\n\u001b[0;32m----> 1\u001b[0;31m \u001b[0ma\u001b[0m\u001b[0;34m*\u001b[0m\u001b[0mc\u001b[0m\u001b[0;34m\u001b[0m\u001b[0;34m\u001b[0m\u001b[0m\n\u001b[0m",
            "\u001b[0;31mValueError\u001b[0m: operands could not be broadcast together with shapes (5,) (3,) "
          ]
        }
      ]
    },
    {
      "cell_type": "markdown",
      "source": [
        "#2d arrays"
      ],
      "metadata": {
        "id": "idsMZJ7Z1-Xu"
      }
    },
    {
      "cell_type": "code",
      "source": [
        "a = np.arange(12).reshape(3,4)\n",
        "a"
      ],
      "metadata": {
        "colab": {
          "base_uri": "https://localhost:8080/"
        },
        "id": "0_ogr7qM2AWk",
        "outputId": "26d20963-64d9-401d-9b09-1854b6ef5b22"
      },
      "execution_count": null,
      "outputs": [
        {
          "output_type": "execute_result",
          "data": {
            "text/plain": [
              "array([[ 0,  1,  2,  3],\n",
              "       [ 4,  5,  6,  7],\n",
              "       [ 8,  9, 10, 11]])"
            ]
          },
          "metadata": {},
          "execution_count": 73
        }
      ]
    },
    {
      "cell_type": "code",
      "source": [
        "b = np.arange(2,14).reshape(3,4)\n",
        "b"
      ],
      "metadata": {
        "colab": {
          "base_uri": "https://localhost:8080/"
        },
        "id": "T8BraIcD2JGg",
        "outputId": "510e6be6-889e-4317-90d2-eacf558bd9d0"
      },
      "execution_count": null,
      "outputs": [
        {
          "output_type": "execute_result",
          "data": {
            "text/plain": [
              "array([[ 2,  3,  4,  5],\n",
              "       [ 6,  7,  8,  9],\n",
              "       [10, 11, 12, 13]])"
            ]
          },
          "metadata": {},
          "execution_count": 74
        }
      ]
    },
    {
      "cell_type": "code",
      "source": [
        "a+b"
      ],
      "metadata": {
        "colab": {
          "base_uri": "https://localhost:8080/"
        },
        "id": "CHaoCn7a2OBS",
        "outputId": "c324993f-7f36-4691-f36a-97c5839ba2ea"
      },
      "execution_count": null,
      "outputs": [
        {
          "output_type": "execute_result",
          "data": {
            "text/plain": [
              "array([[ 2,  4,  6,  8],\n",
              "       [10, 12, 14, 16],\n",
              "       [18, 20, 22, 24]])"
            ]
          },
          "metadata": {},
          "execution_count": 75
        }
      ]
    },
    {
      "cell_type": "code",
      "source": [
        "a*b"
      ],
      "metadata": {
        "colab": {
          "base_uri": "https://localhost:8080/"
        },
        "id": "Thq6UV_E2Qy4",
        "outputId": "bb4cc120-04e6-4bdc-cf7d-1317bf9b4241"
      },
      "execution_count": null,
      "outputs": [
        {
          "output_type": "execute_result",
          "data": {
            "text/plain": [
              "array([[  0,   3,   8,  15],\n",
              "       [ 24,  35,  48,  63],\n",
              "       [ 80,  99, 120, 143]])"
            ]
          },
          "metadata": {},
          "execution_count": 77
        }
      ]
    },
    {
      "cell_type": "code",
      "source": [
        "c = np.arange(2,14).reshape(6,2)"
      ],
      "metadata": {
        "id": "evN9xIWc2UKh"
      },
      "execution_count": null,
      "outputs": []
    },
    {
      "cell_type": "code",
      "source": [
        "c"
      ],
      "metadata": {
        "colab": {
          "base_uri": "https://localhost:8080/"
        },
        "id": "abRQF-gm2aks",
        "outputId": "5825566d-f7f7-49bc-f517-12922e152508"
      },
      "execution_count": null,
      "outputs": [
        {
          "output_type": "execute_result",
          "data": {
            "text/plain": [
              "array([[ 2,  3],\n",
              "       [ 4,  5],\n",
              "       [ 6,  7],\n",
              "       [ 8,  9],\n",
              "       [10, 11],\n",
              "       [12, 13]])"
            ]
          },
          "metadata": {},
          "execution_count": 79
        }
      ]
    },
    {
      "cell_type": "code",
      "source": [
        "a+c"
      ],
      "metadata": {
        "colab": {
          "base_uri": "https://localhost:8080/",
          "height": 141
        },
        "id": "QzHOy_iD2c1l",
        "outputId": "737ed7a4-4189-4f99-8147-e1d56503166e"
      },
      "execution_count": null,
      "outputs": [
        {
          "output_type": "error",
          "ename": "ValueError",
          "evalue": "operands could not be broadcast together with shapes (3,4) (6,2) ",
          "traceback": [
            "\u001b[0;31m---------------------------------------------------------------------------\u001b[0m",
            "\u001b[0;31mValueError\u001b[0m                                Traceback (most recent call last)",
            "\u001b[0;32m<ipython-input-80-e200917bc55f>\u001b[0m in \u001b[0;36m<cell line: 1>\u001b[0;34m()\u001b[0m\n\u001b[0;32m----> 1\u001b[0;31m \u001b[0ma\u001b[0m\u001b[0;34m+\u001b[0m\u001b[0mc\u001b[0m\u001b[0;34m\u001b[0m\u001b[0;34m\u001b[0m\u001b[0m\n\u001b[0m",
            "\u001b[0;31mValueError\u001b[0m: operands could not be broadcast together with shapes (3,4) (6,2) "
          ]
        }
      ]
    },
    {
      "cell_type": "code",
      "source": [
        "a*c"
      ],
      "metadata": {
        "colab": {
          "base_uri": "https://localhost:8080/",
          "height": 141
        },
        "id": "zB5tuJpi2jf2",
        "outputId": "63653a94-fbdf-42f1-d3c8-9ed32aa57901"
      },
      "execution_count": null,
      "outputs": [
        {
          "output_type": "error",
          "ename": "ValueError",
          "evalue": "operands could not be broadcast together with shapes (3,4) (6,2) ",
          "traceback": [
            "\u001b[0;31m---------------------------------------------------------------------------\u001b[0m",
            "\u001b[0;31mValueError\u001b[0m                                Traceback (most recent call last)",
            "\u001b[0;32m<ipython-input-81-531f218278af>\u001b[0m in \u001b[0;36m<cell line: 1>\u001b[0;34m()\u001b[0m\n\u001b[0;32m----> 1\u001b[0;31m \u001b[0ma\u001b[0m\u001b[0;34m*\u001b[0m\u001b[0mc\u001b[0m\u001b[0;34m\u001b[0m\u001b[0;34m\u001b[0m\u001b[0m\n\u001b[0m",
            "\u001b[0;31mValueError\u001b[0m: operands could not be broadcast together with shapes (3,4) (6,2) "
          ]
        }
      ]
    },
    {
      "cell_type": "markdown",
      "source": [
        "#matrix multiplication"
      ],
      "metadata": {
        "id": "0-fC0C2N3xZp"
      }
    },
    {
      "cell_type": "code",
      "source": [
        "# np.dot(),np.matmul()"
      ],
      "metadata": {
        "id": "w4rHK-rf30fI"
      },
      "execution_count": null,
      "outputs": []
    },
    {
      "cell_type": "code",
      "source": [
        "a = np.arange(1,5).reshape(2,2)\n",
        "a"
      ],
      "metadata": {
        "colab": {
          "base_uri": "https://localhost:8080/"
        },
        "id": "jHngUpzj4HAH",
        "outputId": "ad3c3097-b360-4208-9f57-a65bd18781a7"
      },
      "execution_count": null,
      "outputs": [
        {
          "output_type": "execute_result",
          "data": {
            "text/plain": [
              "array([[1, 2],\n",
              "       [3, 4]])"
            ]
          },
          "metadata": {},
          "execution_count": 82
        }
      ]
    },
    {
      "cell_type": "code",
      "source": [
        "b = np.arange(2,8).reshape(2,3)\n",
        "b"
      ],
      "metadata": {
        "colab": {
          "base_uri": "https://localhost:8080/"
        },
        "id": "yOHHkMmp4ORS",
        "outputId": "1bda49c5-8c40-4d5a-bb29-24b7377a1f4f"
      },
      "execution_count": null,
      "outputs": [
        {
          "output_type": "execute_result",
          "data": {
            "text/plain": [
              "array([[2, 3, 4],\n",
              "       [5, 6, 7]])"
            ]
          },
          "metadata": {},
          "execution_count": 83
        }
      ]
    },
    {
      "cell_type": "code",
      "source": [
        "a*b"
      ],
      "metadata": {
        "colab": {
          "base_uri": "https://localhost:8080/",
          "height": 141
        },
        "id": "EgAFI_o_4SnX",
        "outputId": "9885cbe0-d309-49aa-e310-3552029d5569"
      },
      "execution_count": null,
      "outputs": [
        {
          "output_type": "error",
          "ename": "ValueError",
          "evalue": "operands could not be broadcast together with shapes (2,2) (2,3) ",
          "traceback": [
            "\u001b[0;31m---------------------------------------------------------------------------\u001b[0m",
            "\u001b[0;31mValueError\u001b[0m                                Traceback (most recent call last)",
            "\u001b[0;32m<ipython-input-84-8ce765dcfa30>\u001b[0m in \u001b[0;36m<cell line: 1>\u001b[0;34m()\u001b[0m\n\u001b[0;32m----> 1\u001b[0;31m \u001b[0ma\u001b[0m\u001b[0;34m*\u001b[0m\u001b[0mb\u001b[0m\u001b[0;34m\u001b[0m\u001b[0;34m\u001b[0m\u001b[0m\n\u001b[0m",
            "\u001b[0;31mValueError\u001b[0m: operands could not be broadcast together with shapes (2,2) (2,3) "
          ]
        }
      ]
    },
    {
      "cell_type": "code",
      "source": [
        "np.matmul(a,b)"
      ],
      "metadata": {
        "colab": {
          "base_uri": "https://localhost:8080/"
        },
        "id": "oOruOyj64WdE",
        "outputId": "755804ad-252f-4ac3-c2f2-a404563fc6cd"
      },
      "execution_count": null,
      "outputs": [
        {
          "output_type": "execute_result",
          "data": {
            "text/plain": [
              "array([[12, 15, 18],\n",
              "       [26, 33, 40]])"
            ]
          },
          "metadata": {},
          "execution_count": 85
        }
      ]
    },
    {
      "cell_type": "code",
      "source": [
        "np.dot(a,b) #most common"
      ],
      "metadata": {
        "colab": {
          "base_uri": "https://localhost:8080/"
        },
        "id": "5yljH9ko4gIG",
        "outputId": "a78d2976-8565-43e4-cd68-6c9e622c1e09"
      },
      "execution_count": null,
      "outputs": [
        {
          "output_type": "execute_result",
          "data": {
            "text/plain": [
              "array([[12, 15, 18],\n",
              "       [26, 33, 40]])"
            ]
          },
          "metadata": {},
          "execution_count": 86
        }
      ]
    },
    {
      "cell_type": "code",
      "source": [
        "np.matmul(a,5) #arrays"
      ],
      "metadata": {
        "colab": {
          "base_uri": "https://localhost:8080/",
          "height": 159
        },
        "id": "FJ9oD-dv4sU6",
        "outputId": "8e809a8e-0470-4839-ce89-ef7d91c0ad1c"
      },
      "execution_count": null,
      "outputs": [
        {
          "output_type": "error",
          "ename": "ValueError",
          "evalue": "matmul: Input operand 1 does not have enough dimensions (has 0, gufunc core with signature (n?,k),(k,m?)->(n?,m?) requires 1)",
          "traceback": [
            "\u001b[0;31m---------------------------------------------------------------------------\u001b[0m",
            "\u001b[0;31mValueError\u001b[0m                                Traceback (most recent call last)",
            "\u001b[0;32m<ipython-input-87-60bcf163448c>\u001b[0m in \u001b[0;36m<cell line: 1>\u001b[0;34m()\u001b[0m\n\u001b[0;32m----> 1\u001b[0;31m \u001b[0mnp\u001b[0m\u001b[0;34m.\u001b[0m\u001b[0mmatmul\u001b[0m\u001b[0;34m(\u001b[0m\u001b[0ma\u001b[0m\u001b[0;34m,\u001b[0m\u001b[0;36m5\u001b[0m\u001b[0;34m)\u001b[0m\u001b[0;34m\u001b[0m\u001b[0;34m\u001b[0m\u001b[0m\n\u001b[0m",
            "\u001b[0;31mValueError\u001b[0m: matmul: Input operand 1 does not have enough dimensions (has 0, gufunc core with signature (n?,k),(k,m?)->(n?,m?) requires 1)"
          ]
        }
      ]
    },
    {
      "cell_type": "code",
      "source": [
        "np.dot(a,5) #array , scalar"
      ],
      "metadata": {
        "colab": {
          "base_uri": "https://localhost:8080/"
        },
        "id": "VtjdVSxv41DS",
        "outputId": "729cb9d1-14c2-44cd-e38e-231d0fcf9519"
      },
      "execution_count": null,
      "outputs": [
        {
          "output_type": "execute_result",
          "data": {
            "text/plain": [
              "array([[ 5, 10],\n",
              "       [15, 20]])"
            ]
          },
          "metadata": {},
          "execution_count": 88
        }
      ]
    },
    {
      "cell_type": "code",
      "source": [
        "a1 = np.array([1,2,3])\n",
        "a2 = np.array([3,4,5])\n",
        "np.matmul(a1,a2)"
      ],
      "metadata": {
        "colab": {
          "base_uri": "https://localhost:8080/"
        },
        "id": "ddjSlOQH475N",
        "outputId": "c8a53f6e-0868-48cb-989d-314c9e0c6915"
      },
      "execution_count": null,
      "outputs": [
        {
          "output_type": "execute_result",
          "data": {
            "text/plain": [
              "26"
            ]
          },
          "metadata": {},
          "execution_count": 91
        }
      ]
    },
    {
      "cell_type": "code",
      "source": [
        "np.dot(a1,a2)"
      ],
      "metadata": {
        "colab": {
          "base_uri": "https://localhost:8080/"
        },
        "id": "dMww2j3Z5Nuc",
        "outputId": "fa5419f1-a8e7-4939-c186-47c3074dc8b9"
      },
      "execution_count": null,
      "outputs": [
        {
          "output_type": "execute_result",
          "data": {
            "text/plain": [
              "26"
            ]
          },
          "metadata": {},
          "execution_count": 92
        }
      ]
    },
    {
      "cell_type": "code",
      "source": [
        "a @ b"
      ],
      "metadata": {
        "colab": {
          "base_uri": "https://localhost:8080/"
        },
        "id": "LIuFLs_u5upH",
        "outputId": "d545e00f-5c94-4384-ecc3-c2b13c183809"
      },
      "execution_count": null,
      "outputs": [
        {
          "output_type": "execute_result",
          "data": {
            "text/plain": [
              "array([[12, 15, 18],\n",
              "       [26, 33, 40]])"
            ]
          },
          "metadata": {},
          "execution_count": 93
        }
      ]
    },
    {
      "cell_type": "markdown",
      "source": [
        "#Vectorization"
      ],
      "metadata": {
        "id": "pgJBJ0OK6XSI"
      }
    },
    {
      "cell_type": "markdown",
      "source": [
        "\n",
        "Vectorization in NumPy refers to performing operations on entire arrays or array elements simultaneously, which is significantly faster and more efficient than using explicit loops."
      ],
      "metadata": {
        "id": "KDxQLhEX6cH0"
      }
    },
    {
      "cell_type": "code",
      "source": [
        "a = np.arange(10)\n",
        "a"
      ],
      "metadata": {
        "colab": {
          "base_uri": "https://localhost:8080/"
        },
        "id": "Y3A74bAS6bNu",
        "outputId": "86bea097-85ad-4072-99ee-6703bebf577f"
      },
      "execution_count": null,
      "outputs": [
        {
          "output_type": "execute_result",
          "data": {
            "text/plain": [
              "array([0, 1, 2, 3, 4, 5, 6, 7, 8, 9])"
            ]
          },
          "metadata": {},
          "execution_count": 94
        }
      ]
    },
    {
      "cell_type": "code",
      "source": [
        "a**2 #parallel processing"
      ],
      "metadata": {
        "colab": {
          "base_uri": "https://localhost:8080/"
        },
        "id": "thrKPOZs6ysl",
        "outputId": "4dc7dea5-a6a7-424a-acd8-52f2531528e1"
      },
      "execution_count": null,
      "outputs": [
        {
          "output_type": "execute_result",
          "data": {
            "text/plain": [
              "array([ 0,  1,  4,  9, 16, 25, 36, 49, 64, 81])"
            ]
          },
          "metadata": {},
          "execution_count": 95
        }
      ]
    },
    {
      "cell_type": "code",
      "source": [
        "def new_ops(x):\n",
        "  if x%2 == 0:\n",
        "    return x**2\n",
        "  else:\n",
        "    return x**3"
      ],
      "metadata": {
        "id": "dQDIQoW666oA"
      },
      "execution_count": null,
      "outputs": []
    },
    {
      "cell_type": "code",
      "source": [
        "new_ops(2)"
      ],
      "metadata": {
        "colab": {
          "base_uri": "https://localhost:8080/"
        },
        "id": "ygPOGHs97OHI",
        "outputId": "b2b54bc2-556b-41db-f74f-52d9e55057c4"
      },
      "execution_count": null,
      "outputs": [
        {
          "output_type": "execute_result",
          "data": {
            "text/plain": [
              "4"
            ]
          },
          "metadata": {},
          "execution_count": 97
        }
      ]
    },
    {
      "cell_type": "code",
      "source": [
        "new_ops(3)"
      ],
      "metadata": {
        "colab": {
          "base_uri": "https://localhost:8080/"
        },
        "id": "xqU8KGDg7RwU",
        "outputId": "064027db-5e25-4e57-b896-12215ee8be08"
      },
      "execution_count": null,
      "outputs": [
        {
          "output_type": "execute_result",
          "data": {
            "text/plain": [
              "27"
            ]
          },
          "metadata": {},
          "execution_count": 98
        }
      ]
    },
    {
      "cell_type": "code",
      "source": [
        "new_ops(a)"
      ],
      "metadata": {
        "colab": {
          "base_uri": "https://localhost:8080/",
          "height": 263
        },
        "id": "5mbCHjb37Vi3",
        "outputId": "e5e4d2a8-a6cb-470f-cc47-d821008bf0d7"
      },
      "execution_count": null,
      "outputs": [
        {
          "output_type": "error",
          "ename": "ValueError",
          "evalue": "The truth value of an array with more than one element is ambiguous. Use a.any() or a.all()",
          "traceback": [
            "\u001b[0;31m---------------------------------------------------------------------------\u001b[0m",
            "\u001b[0;31mValueError\u001b[0m                                Traceback (most recent call last)",
            "\u001b[0;32m<ipython-input-99-1b3c87c9b032>\u001b[0m in \u001b[0;36m<cell line: 1>\u001b[0;34m()\u001b[0m\n\u001b[0;32m----> 1\u001b[0;31m \u001b[0mnew_ops\u001b[0m\u001b[0;34m(\u001b[0m\u001b[0ma\u001b[0m\u001b[0;34m)\u001b[0m\u001b[0;34m\u001b[0m\u001b[0;34m\u001b[0m\u001b[0m\n\u001b[0m",
            "\u001b[0;32m<ipython-input-96-108e34530187>\u001b[0m in \u001b[0;36mnew_ops\u001b[0;34m(x)\u001b[0m\n\u001b[1;32m      1\u001b[0m \u001b[0;32mdef\u001b[0m \u001b[0mnew_ops\u001b[0m\u001b[0;34m(\u001b[0m\u001b[0mx\u001b[0m\u001b[0;34m)\u001b[0m\u001b[0;34m:\u001b[0m\u001b[0;34m\u001b[0m\u001b[0;34m\u001b[0m\u001b[0m\n\u001b[0;32m----> 2\u001b[0;31m   \u001b[0;32mif\u001b[0m \u001b[0mx\u001b[0m\u001b[0;34m%\u001b[0m\u001b[0;36m2\u001b[0m \u001b[0;34m==\u001b[0m \u001b[0;36m0\u001b[0m\u001b[0;34m:\u001b[0m\u001b[0;34m\u001b[0m\u001b[0;34m\u001b[0m\u001b[0m\n\u001b[0m\u001b[1;32m      3\u001b[0m     \u001b[0;32mreturn\u001b[0m \u001b[0mx\u001b[0m\u001b[0;34m**\u001b[0m\u001b[0;36m2\u001b[0m\u001b[0;34m\u001b[0m\u001b[0;34m\u001b[0m\u001b[0m\n\u001b[1;32m      4\u001b[0m   \u001b[0;32melse\u001b[0m\u001b[0;34m:\u001b[0m\u001b[0;34m\u001b[0m\u001b[0;34m\u001b[0m\u001b[0m\n\u001b[1;32m      5\u001b[0m     \u001b[0;32mreturn\u001b[0m \u001b[0mx\u001b[0m\u001b[0;34m**\u001b[0m\u001b[0;36m3\u001b[0m\u001b[0;34m\u001b[0m\u001b[0;34m\u001b[0m\u001b[0m\n",
            "\u001b[0;31mValueError\u001b[0m: The truth value of an array with more than one element is ambiguous. Use a.any() or a.all()"
          ]
        }
      ]
    },
    {
      "cell_type": "code",
      "source": [
        "a"
      ],
      "metadata": {
        "colab": {
          "base_uri": "https://localhost:8080/"
        },
        "id": "G_tai1Gd8E4q",
        "outputId": "fc4e9f68-1d66-4cac-8cfa-0f8c6fcdef1b"
      },
      "execution_count": null,
      "outputs": [
        {
          "output_type": "execute_result",
          "data": {
            "text/plain": [
              "array([0, 1, 2, 3, 4, 5, 6, 7, 8, 9])"
            ]
          },
          "metadata": {},
          "execution_count": 100
        }
      ]
    },
    {
      "cell_type": "code",
      "source": [
        "def new_ops(x):\n",
        "  if x%2 == 0:\n",
        "    return x**2\n",
        "  else:\n",
        "    return x**3"
      ],
      "metadata": {
        "id": "_VpP52Be8P-r"
      },
      "execution_count": null,
      "outputs": []
    },
    {
      "cell_type": "code",
      "source": [
        "for i in a:\n",
        "  # print(i)\n",
        "  print(new_ops(i),end=' ')"
      ],
      "metadata": {
        "colab": {
          "base_uri": "https://localhost:8080/"
        },
        "id": "xxM0KruI79S9",
        "outputId": "bb1ad0b9-b47f-4cb3-a5af-7994a53fc2ac"
      },
      "execution_count": null,
      "outputs": [
        {
          "output_type": "stream",
          "name": "stdout",
          "text": [
            "0 1 4 27 16 125 36 343 64 729 "
          ]
        }
      ]
    },
    {
      "cell_type": "code",
      "source": [
        "cool_ops = np.vectorize(new_ops)"
      ],
      "metadata": {
        "id": "CePxGVKY9ASo"
      },
      "execution_count": null,
      "outputs": []
    },
    {
      "cell_type": "code",
      "source": [
        "cool_ops(a)"
      ],
      "metadata": {
        "colab": {
          "base_uri": "https://localhost:8080/"
        },
        "id": "6wCEUnUs9LO9",
        "outputId": "a90eb147-4231-4c82-9efe-e96300e4018c"
      },
      "execution_count": null,
      "outputs": [
        {
          "output_type": "execute_result",
          "data": {
            "text/plain": [
              "array([  0,   1,   4,  27,  16, 125,  36, 343,  64, 729])"
            ]
          },
          "metadata": {},
          "execution_count": 107
        }
      ]
    },
    {
      "cell_type": "code",
      "source": [
        "import math"
      ],
      "metadata": {
        "id": "hNiiln719gJk"
      },
      "execution_count": null,
      "outputs": []
    },
    {
      "cell_type": "code",
      "source": [
        "a = np.arange(2,11)\n",
        "a"
      ],
      "metadata": {
        "colab": {
          "base_uri": "https://localhost:8080/"
        },
        "id": "V30gBQIb9jla",
        "outputId": "66ddb637-2bdf-49fa-cfe5-56b61979a620"
      },
      "execution_count": null,
      "outputs": [
        {
          "output_type": "execute_result",
          "data": {
            "text/plain": [
              "array([ 2,  3,  4,  5,  6,  7,  8,  9, 10])"
            ]
          },
          "metadata": {},
          "execution_count": 110
        }
      ]
    },
    {
      "cell_type": "code",
      "source": [
        "math.log(64)"
      ],
      "metadata": {
        "colab": {
          "base_uri": "https://localhost:8080/"
        },
        "id": "spSMeiJW9olD",
        "outputId": "5f26d598-610a-479b-af2d-a742e56456cb"
      },
      "execution_count": null,
      "outputs": [
        {
          "output_type": "execute_result",
          "data": {
            "text/plain": [
              "4.1588830833596715"
            ]
          },
          "metadata": {},
          "execution_count": 111
        }
      ]
    },
    {
      "cell_type": "code",
      "source": [
        "math.log(1000)"
      ],
      "metadata": {
        "colab": {
          "base_uri": "https://localhost:8080/"
        },
        "id": "U1GpSLfU9xHu",
        "outputId": "b07f7bde-1548-45ad-94ae-3b3aba3be019"
      },
      "execution_count": null,
      "outputs": [
        {
          "output_type": "execute_result",
          "data": {
            "text/plain": [
              "6.907755278982137"
            ]
          },
          "metadata": {},
          "execution_count": 112
        }
      ]
    },
    {
      "cell_type": "code",
      "source": [
        "math.log(a)"
      ],
      "metadata": {
        "colab": {
          "base_uri": "https://localhost:8080/",
          "height": 141
        },
        "id": "RCZiJcZ992K0",
        "outputId": "e6acc8c9-ffa1-42c8-d682-1acd43f9edb0"
      },
      "execution_count": null,
      "outputs": [
        {
          "output_type": "error",
          "ename": "TypeError",
          "evalue": "only length-1 arrays can be converted to Python scalars",
          "traceback": [
            "\u001b[0;31m---------------------------------------------------------------------------\u001b[0m",
            "\u001b[0;31mTypeError\u001b[0m                                 Traceback (most recent call last)",
            "\u001b[0;32m<ipython-input-113-c35a2570e118>\u001b[0m in \u001b[0;36m<cell line: 1>\u001b[0;34m()\u001b[0m\n\u001b[0;32m----> 1\u001b[0;31m \u001b[0mmath\u001b[0m\u001b[0;34m.\u001b[0m\u001b[0mlog\u001b[0m\u001b[0;34m(\u001b[0m\u001b[0ma\u001b[0m\u001b[0;34m)\u001b[0m\u001b[0;34m\u001b[0m\u001b[0;34m\u001b[0m\u001b[0m\n\u001b[0m",
            "\u001b[0;31mTypeError\u001b[0m: only length-1 arrays can be converted to Python scalars"
          ]
        }
      ]
    },
    {
      "cell_type": "code",
      "source": [
        "log_vect = np.vectorize(math.log)"
      ],
      "metadata": {
        "id": "DPY9r7zT-Csg"
      },
      "execution_count": null,
      "outputs": []
    },
    {
      "cell_type": "code",
      "source": [
        "log_vect(a)"
      ],
      "metadata": {
        "colab": {
          "base_uri": "https://localhost:8080/"
        },
        "id": "OI8_ddWX-JQ1",
        "outputId": "df534e91-21d2-4801-9eff-1f87667123aa"
      },
      "execution_count": null,
      "outputs": [
        {
          "output_type": "execute_result",
          "data": {
            "text/plain": [
              "array([0.69314718, 1.09861229, 1.38629436, 1.60943791, 1.79175947,\n",
              "       1.94591015, 2.07944154, 2.19722458, 2.30258509])"
            ]
          },
          "metadata": {},
          "execution_count": 115
        }
      ]
    },
    {
      "cell_type": "markdown",
      "source": [
        "#doubts"
      ],
      "metadata": {
        "id": "7O6FJUR5Aagg"
      }
    },
    {
      "cell_type": "code",
      "source": [
        "a = np.arange(1,13).reshape(4,3)\n",
        "a"
      ],
      "metadata": {
        "colab": {
          "base_uri": "https://localhost:8080/"
        },
        "id": "SpqOBQUmAbvT",
        "outputId": "da6b3cac-d1a5-4492-db1f-f1da3ca4e1d0"
      },
      "execution_count": null,
      "outputs": [
        {
          "output_type": "execute_result",
          "data": {
            "text/plain": [
              "array([[ 1,  2,  3],\n",
              "       [ 4,  5,  6],\n",
              "       [ 7,  8,  9],\n",
              "       [10, 11, 12]])"
            ]
          },
          "metadata": {},
          "execution_count": 116
        }
      ]
    },
    {
      "cell_type": "code",
      "source": [
        "a.ndim"
      ],
      "metadata": {
        "colab": {
          "base_uri": "https://localhost:8080/"
        },
        "id": "RHB5SOYjAjuQ",
        "outputId": "dadb8688-f76c-495e-905a-969bc99430a8"
      },
      "execution_count": null,
      "outputs": [
        {
          "output_type": "execute_result",
          "data": {
            "text/plain": [
              "2"
            ]
          },
          "metadata": {},
          "execution_count": 117
        }
      ]
    },
    {
      "cell_type": "code",
      "source": [
        "a.shape"
      ],
      "metadata": {
        "colab": {
          "base_uri": "https://localhost:8080/"
        },
        "id": "rt49tGcjAk6J",
        "outputId": "c3521a8d-d15a-42b2-9e8e-b79e72237368"
      },
      "execution_count": null,
      "outputs": [
        {
          "output_type": "execute_result",
          "data": {
            "text/plain": [
              "(4, 3)"
            ]
          },
          "metadata": {},
          "execution_count": 118
        }
      ]
    },
    {
      "cell_type": "code",
      "source": [
        "#2d to 1d\n",
        "a.flatten()"
      ],
      "metadata": {
        "colab": {
          "base_uri": "https://localhost:8080/"
        },
        "id": "y2JUT1diApqi",
        "outputId": "50de7ee5-0923-4d03-bb05-ccba5228b383"
      },
      "execution_count": null,
      "outputs": [
        {
          "output_type": "execute_result",
          "data": {
            "text/plain": [
              "array([ 1,  2,  3,  4,  5,  6,  7,  8,  9, 10, 11, 12])"
            ]
          },
          "metadata": {},
          "execution_count": 119
        }
      ]
    }
  ]
}